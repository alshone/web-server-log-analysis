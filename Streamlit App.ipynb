{
 "cells": [
  {
   "cell_type": "markdown",
   "id": "fb3c3d95",
   "metadata": {},
   "source": [
    "# Project Explained"
   ]
  },
  {
   "cell_type": "markdown",
   "id": "ef03ceca",
   "metadata": {},
   "source": [
    "- The goal of this project is to provide a user-friendly web server log analysis system that automates log processing and produces useful insights. \n",
    "- We have reviewed the available methods and tools for web server log analysis in order to design the system. We utilise machine learning techniques to automatically detect patterns in log data and deliver tailored insights based on the application type.\n",
    "- Along with this, we offer a user-friendly interface that enables users to rapidly spot performance bottlenecks, security concerns, and user behaviour trends, our technology attempts to meet this demand."
   ]
  },
  {
   "cell_type": "markdown",
   "id": "27952597",
   "metadata": {},
   "source": [
    "# Aim"
   ]
  },
  {
   "cell_type": "markdown",
   "id": "657b7066",
   "metadata": {},
   "source": [
    "- The objective of this project is to use various data analysis and machine learning approaches to examine web server logs and get useful insights from them. Python will be used to do data analysis, alter data, and create machine learning models in order to find trends and abnormalities in web server log data.\n",
    "- The pre-processing of the log data, feature engineering, and application of machine learning models to the pre-processed data will all be part of the project's efforts to distinguish between regular and abnormal traffic."
   ]
  },
  {
   "cell_type": "markdown",
   "id": "77debd95",
   "metadata": {},
   "source": [
    "# Features Explained"
   ]
  },
  {
   "cell_type": "markdown",
   "id": "06994a38",
   "metadata": {},
   "source": [
    "**1. Host** : The IP address or hostname of the client that made the request. **Datatype**: integer or string.<br>\n",
    "**2. Date** : The date when the request was made. **Datatype**: date or string.<br>\n",
    "**3. Method** : The HTTP method used in the request (e.g., GET, POST). **Datatype**: string.<br>\n",
    "**4. Endpoint** : The endpoint of the request (e.g., /config/getuser). **Datatype**: string.<br>\n",
    "**5. Protocol** :  The HTTP protocol used in the request (e.g., HTTP/1.1). **Datatype**: string.<br>\n",
    "**6. Status Code** : The HTTP status code returned by the server (e.g., 200 OK). **Datatype**: integer or string.<br>\n",
    "**7. Content Size** : The size of the response body in bytes. **Datatype**: integer.<br>\n",
    "**8. No of Requests** : The number of requests made to this endpoint. **Datatype**: integer.<br>"
   ]
  },
  {
   "cell_type": "markdown",
   "id": "d0ecfec9",
   "metadata": {},
   "source": [
    "# Model Deployment"
   ]
  },
  {
   "cell_type": "code",
   "execution_count": null,
   "id": "b8f5ef61",
   "metadata": {},
   "outputs": [],
   "source": [
    "import streamlit as st\n",
    "from pymongo import MongoClient\n",
    "import pandas as pd\n",
    "import numpy as np\n",
    "import joblib"
   ]
  },
  {
   "cell_type": "code",
   "execution_count": null,
   "id": "1b506037",
   "metadata": {},
   "outputs": [],
   "source": [
    "model1 = joblib.load('model1.pkl')\n",
    "model2 = joblib.load('model4.pkl')\n",
    "df = pd.read_csv('third_result.csv')"
   ]
  },
  {
   "cell_type": "code",
   "execution_count": null,
   "id": "f3af276a",
   "metadata": {},
   "outputs": [],
   "source": [
    "ip = [i for i in df['Host']]\n",
    "method = [i for i in df['Method']]\n",
    "endpoint = [i for i in df['Endpoint']]\n",
    "protocol = [i for i in df['Protocol']]\n",
    "status_code = [i for i in df['Status Code']]\n",
    "content_size = [i for i in df['Content Size']]\n",
    "no_of_requests = [i for i in df['No_of_Request']]\n",
    "\n",
    "if st.button('Select a Random IP Configuration to Test'):\n",
    "    l1 = df.sample().tolist()\n",
    "    st.write('IP Address Selected : ',ip_val)\n",
    "    st.write('Method Selected : ',method_val)\n",
    "    st.write('Endpoint Selected : ',endpoint_val)\n",
    "    st.write('Protocol Selected : ',protocol_val)\n",
    "    st.write('Status Code Selected : ',status_code_val)\n",
    "    st.write('Content Size Selected : ',content_size_val)\n",
    "    st.write('No of Requests Selected : ',no_of_requests_val)\n",
    "else:\n",
    "    st.write('')"
   ]
  },
  {
   "cell_type": "code",
   "execution_count": null,
   "id": "40bbdfb0",
   "metadata": {},
   "outputs": [],
   "source": [
    "def predict(model, lists):\n",
    "    data = pd.DataFrame({\n",
    "        'Host': [list1[0]],\n",
    "        'Method': list1[1],\n",
    "        'Endpoint': list1[2],\n",
    "        'Protocol': list1[3],\n",
    "        'Status Code': list1[4],\n",
    "        'Content Size': list1[5],\n",
    "        'No of Requests': list1[6]\n",
    "    })\n",
    "\n",
    "    prediction = model.predict(data)\n",
    "\n",
    "    return prediction"
   ]
  },
  {
   "cell_type": "code",
   "execution_count": null,
   "id": "16ea7e5c",
   "metadata": {},
   "outputs": [],
   "source": [
    "\n",
    "prediction1 = predict(model1, list1)\n",
    "prediction2 = predict(model4, list1)\n",
    "\n",
    "st.markdown('## Prediction')\n",
    "st.write('The predicted value using model 1 is: ', prediction1)\n",
    "st.write('The predicted value using model 2 is: ', prediction2)"
   ]
  },
  {
   "cell_type": "markdown",
   "id": "7b2a6f41",
   "metadata": {},
   "source": [
    "# Model Statistics"
   ]
  },
  {
   "cell_type": "code",
   "execution_count": null,
   "id": "7cd6c930",
   "metadata": {},
   "outputs": [],
   "source": []
  }
 ],
 "metadata": {
  "kernelspec": {
   "display_name": "Python 3 (ipykernel)",
   "language": "python",
   "name": "python3"
  },
  "language_info": {
   "codemirror_mode": {
    "name": "ipython",
    "version": 3
   },
   "file_extension": ".py",
   "mimetype": "text/x-python",
   "name": "python",
   "nbconvert_exporter": "python",
   "pygments_lexer": "ipython3",
   "version": "3.9.12"
  }
 },
 "nbformat": 4,
 "nbformat_minor": 5
}
